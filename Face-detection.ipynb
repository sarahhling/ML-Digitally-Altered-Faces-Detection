{
 "cells": [
  {
   "cell_type": "markdown",
   "id": "484425a7",
   "metadata": {},
   "source": [
    "# Fake and Real Face Detection\n",
    "### Goal\n",
    "The goal of this project is to achieve a greater accuracy in detecting real and digitally created faces, which we will call *fake* for simplicity. We have surveyed a form (https://forms.gle/H5Spuu8ee3XXzP5Z6) to about one hundred people which required them to differentiate between 15 fake and real faces. In average, surveyed participants, distinguished 60% of the faces correctly.<br>\n",
    "\n",
    "### Overview\n",
    "We used tensorflow and keras for training our model. For image augmentation, instead, we used *imgaug* (https://github.com/aleju/imgaug) which comes with a variety of augmentations to choose from.<br>\n",
    "For the image classification we used a **CNN** which took as input 128x128 images and 2 classes activated with softmax as output layer.<br><br>\n",
    "We have trained our model in three different moments.<br> First, we trained on 10k images from the UTK dataset of aligned & cropped faces (https://susanqq.github.io/UTKFace/) for the *Real* label and the first 10k styleGAN images of the 1 million archive (https://archive.org/download/1mFakeFaces). <br>The second training was done on the 140k images, composed of 70k Flickr images collected by Nvidia for the *Real* classification and 70k styleGAN images for the *Fake*.<br>\n",
    "The final training was done on 24k in-the-wild images from the UTK dataset for the *Real* classification, and 20k styleGAN images from the 1 million fake faces archive for the *Fake*.<br><br>\n",
    "Our model was tested on 3.8k faces from the LAG  dataset (http://www.ivl.disco.unimib.it/activities/large-age-gap-face-verification/) and 5k from the CelebA dataset (http://mmlab.ie.cuhk.edu.hk/projects/CelebA.html)for the *Real* classification; we used 10k styleGAN faces from the 1 million fake faces archive for the *Fake*. The datasets used for the testing were chosen for the variety of angles, lightning, filters, and alteration that the real faces contained. The different range of characteristics helped us carry out a more appropriate testing.<br><br>\n",
    "The model showed 87% accuracy on the testing datasets."
   ]
  },
  {
   "cell_type": "code",
   "execution_count": 1,
   "id": "56f18d27",
   "metadata": {},
   "outputs": [],
   "source": [
    "import tensorflow as tf\n",
    "from tensorflow.keras.preprocessing.image import ImageDataGenerator\n",
    "import albumentations\n",
    "import tensorflow_addons as tfa\n",
    "from tensorflow.keras import datasets, layers, models\n",
    "import numpy as np\n",
    "import matplotlib.pyplot as plt"
   ]
  },
  {
   "cell_type": "markdown",
   "id": "60597b5d",
   "metadata": {},
   "source": [
    "## Training with Aligned & Cropped UTK and styleGAN from  1 million archive\n",
    "\n",
    "We used *ImageDataGenerator* for loading our datasets. This library allowed us to simply handle our Xs and Ys data structures for the training, validation, and testing.<br>\n",
    "Based on the paper, *CNN-generated images are surprisingly easy to spot... for now* from researchers at UC Berkeley, Adobe Research, and University of Minnesota, applying **blur** and **JPEG** compression helps a model detect real and fake faces with more generalization.<br>\n",
    "We started by applying blur as image augmentation to our training data and rescaling the image colors to a a value between 0 and 1.<br>"
   ]
  },
  {
   "cell_type": "code",
   "execution_count": 2,
   "id": "9a93d445",
   "metadata": {},
   "outputs": [
    {
     "name": "stdout",
     "output_type": "stream",
     "text": [
      "Found 13846 images belonging to 2 classes.\n",
      "Found 3956 images belonging to 2 classes.\n",
      "Found 1978 images belonging to 2 classes.\n"
     ]
    }
   ],
   "source": [
    "TRAIN_DIR=\"./data/1m_utk/train\"\n",
    "VALID_DIR=\"./data/1m_utk/valid\"\n",
    "TEST_DIR=\"./data/1m_utk/test\"\n",
    "\n",
    "train_gen = ImageDataGenerator(\n",
    "    rescale=(1./255),\n",
    "    preprocessing_function=tfa.image.gaussian_filter2d\n",
    ")\n",
    "valid_gen = ImageDataGenerator(\n",
    "    rescale=(1./255)\n",
    ")\n",
    "test_gen = ImageDataGenerator(\n",
    "    rescale=(1./255)\n",
    ")\n",
    "\n",
    "train = train_gen.flow_from_directory(\n",
    "    directory= TRAIN_DIR,\n",
    "    target_size = (128, 128),\n",
    "    batch_size=64,\n",
    "    class_mode=\"binary\"\n",
    "       \n",
    ")\n",
    "valid = valid_gen.flow_from_directory(\n",
    "    directory=VALID_DIR,\n",
    "    target_size = (128, 128),\n",
    "    batch_size=32,\n",
    "    class_mode=\"binary\"\n",
    "    )\n",
    "test = test_gen.flow_from_directory(\n",
    "    directory=TEST_DIR,\n",
    "    target_size = (128, 128),\n",
    "    class_mode=\"binary\"    \n",
    ")\n",
    "from PIL import ImageFile\n",
    "#Truncated images would give errors during training.\n",
    "ImageFile.LOAD_TRUNCATED_IMAGES = True"
   ]
  },
  {
   "cell_type": "markdown",
   "id": "4c5dfb72",
   "metadata": {},
   "source": [
    "### Model Description\n",
    "This network layout is the successor of a more simplistic first model we tried.<br>\n",
    "The differences in this model, compared to our previous model are:\n",
    "- Instead of *Conv2D* and then a *MaxPooling*, this model has 2 *Conv2D* followed by a *MaxPooling*.\n",
    "- *BatchNormalization* is applied to rescaled the values after the Conv2D.\n",
    "- *Dropout* allows the model to avoid overfitting."
   ]
  },
  {
   "cell_type": "code",
   "execution_count": 3,
   "id": "0b07d2bc",
   "metadata": {},
   "outputs": [],
   "source": [
    "model = models.Sequential()\n",
    "model.add(layers.Conv2D(64, kernel_size=(3,3), activation=\"relu\", input_shape=(128,128,3)))\n",
    "model.add(layers.BatchNormalization())\n",
    "model.add(layers.Conv2D(32, kernel_size=(3,3), activation=\"relu\"))\n",
    "model.add(layers.MaxPooling2D(pool_size=(2,2)))\n",
    "model.add(layers.Dropout(0.25))\n",
    "model.add(layers.Conv2D(64, kernel_size=(3,3), activation=\"relu\"))\n",
    "model.add(layers.BatchNormalization())\n",
    "model.add(layers.MaxPooling2D(pool_size=(2,2)))\n",
    "model.add(layers.Dropout(0.25))\n",
    "model.add(layers.Flatten())\n",
    "model.add(layers.Dense(128, activation=\"relu\"))\n",
    "model.add(layers.BatchNormalization())\n",
    "model.add(layers.Dropout(0.25))\n",
    "model.add(layers.Dense(2, activation=\"softmax\"))"
   ]
  },
  {
   "cell_type": "markdown",
   "id": "393b82ff",
   "metadata": {},
   "source": [
    "### Hyperparameters\n",
    "The model starts with 1-e3 learning rate. A slow learning rate, which is further slowed down by *ReduceLROnPlateau*.<br>\n",
    "The steps per epoch are training_samples//64 and validation_steps validation_samples//64.<br>\n",
    "Loss function is *sparse categorical crossentropy* as the output layer is a *softmax* on with 2 classes.\n"
   ]
  },
  {
   "cell_type": "code",
   "execution_count": 4,
   "id": "dcaece0e",
   "metadata": {},
   "outputs": [],
   "source": [
    "\n",
    "reduce_lr = tf.keras.callbacks.ReduceLROnPlateau(monitor='val_loss',\n",
    "                              factor=0.1, \n",
    "                              verbose=2,\n",
    "                              patience=10, min_lr=0.0001, mode=\"auto\", )"
   ]
  },
  {
   "cell_type": "code",
   "execution_count": 5,
   "id": "07270562",
   "metadata": {},
   "outputs": [],
   "source": [
    "\n",
    "model.compile(\n",
    "    optimizer=tf.keras.optimizers.Adam(learning_rate=0.001),\n",
    "    loss=\"sparse_categorical_crossentropy\",\n",
    "    metrics=[\"accuracy\"]\n",
    ")"
   ]
  },
  {
   "cell_type": "code",
   "execution_count": 6,
   "id": "ef580551",
   "metadata": {},
   "outputs": [
    {
     "name": "stdout",
     "output_type": "stream",
     "text": [
      "Epoch 1/5\n",
      "156/156 [==============================] - 134s 842ms/step - loss: 0.0342 - accuracy: 0.9885 - val_loss: 12.5111 - val_accuracy: 0.4899\n",
      "Epoch 2/5\n",
      "156/156 [==============================] - 132s 849ms/step - loss: 0.0046 - accuracy: 0.9985 - val_loss: 13.8471 - val_accuracy: 0.4950\n",
      "Epoch 3/5\n",
      "156/156 [==============================] - 132s 848ms/step - loss: 9.3667e-04 - accuracy: 0.9997 - val_loss: 1.3608 - val_accuracy: 0.7712\n",
      "Epoch 4/5\n",
      "156/156 [==============================] - 132s 849ms/step - loss: 6.5337e-04 - accuracy: 0.9997 - val_loss: 0.0768 - val_accuracy: 0.9768\n",
      "Epoch 5/5\n",
      "156/156 [==============================] - 133s 851ms/step - loss: 7.4494e-04 - accuracy: 0.9999 - val_loss: 0.0030 - val_accuracy: 0.9990\n"
     ]
    }
   ],
   "source": [
    "history = model.fit(train, \n",
    "                    epochs=5, \n",
    "                    steps_per_epoch=10000//64, \n",
    "                    validation_steps=2000//64,\n",
    "                    callbacks=[reduce_lr],\n",
    "                    validation_data=valid,\n",
    "                   )"
   ]
  },
  {
   "cell_type": "code",
   "execution_count": 14,
   "id": "57067cd4",
   "metadata": {
    "scrolled": true
   },
   "outputs": [
    {
     "name": "stdout",
     "output_type": "stream",
     "text": [
      "62/62 - 19s - loss: 0.0026 - accuracy: 0.9990\n"
     ]
    },
    {
     "data": {
      "image/png": "[encoded data removed]",
      "text/plain": [
       "<Figure size 432x288 with 1 Axes>"
      ]
     },
     "metadata": {
      "needs_background": "light"
     },
     "output_type": "display_data"
    }
   ],
   "source": [
    "plt.plot(history.history['accuracy'], label='accuracy')\n",
    "plt.plot(history.history['val_accuracy'], label = 'val_accuracy')\n",
    "plt.xlabel('Epoch')\n",
    "plt.ylabel('Accuracy')\n",
    "plt.ylim([0.5, 1])\n",
    "plt.legend(loc='lower right')\n",
    "\n",
    "test_loss, test_acc = model.evaluate(test, verbose=2)"
   ]
  },
  {
   "cell_type": "code",
   "execution_count": 17,
   "id": "3b07fa97",
   "metadata": {},
   "outputs": [
    {
     "data": {
      "text/plain": [
       "<matplotlib.legend.Legend at 0x7f0e7adf9da0>"
      ]
     },
     "execution_count": 17,
     "metadata": {},
     "output_type": "execute_result"
    },
    {
     "data": {
      "image/png": "[encoded data removed]",
      "text/plain": [
       "<Figure size 432x288 with 1 Axes>"
      ]
     },
     "metadata": {
      "needs_background": "light"
     },
     "output_type": "display_data"
    }
   ],
   "source": [
    "plt.plot(history.history['loss'], label='loss')\n",
    "plt.plot(history.history['val_loss'], label = 'val_loss')\n",
    "plt.xlabel('Epoch')\n",
    "plt.ylabel('Accuracy')\n",
    "#plt.ylim([0.5, 1])\n",
    "plt.legend(loc='lower right')\n"
   ]
  },
  {
   "cell_type": "code",
   "execution_count": 18,
   "id": "d22124e9",
   "metadata": {},
   "outputs": [],
   "source": [
    "model.save(\"/tmp/model.h5\")"
   ]
  },
  {
   "attachments": {
    "image.png": {
     "image/png": "[encoded data removed]"
    }
   },
   "cell_type": "markdown",
   "id": "26b5bb0a",
   "metadata": {},
   "source": [
    "## Training on Flickr images collected by Nvidia and styleGAN from the 1 million archive\n",
    "A total of 140k images were used for this training.<br>\n",
    "The images contained in this dataset we very useful for the training for two reasons:\n",
    "- The model could train on more different images as the *Real* ones, as they were collected from Flickr, contained alterations, such as color filters, face filters, etc ...\n",
    "- The *Real* images are the same that were used for training styleGAN.\n",
    "\n",
    "### Added More Image Augmentation\n",
    "\n",
    "The first training attempts on these images resulted in an overfit.<br>\n",
    "The *accuracy* vs *validation_accuracy* graph clearly shows that the model was **overfitting**\n",
    "![](attachment:image.png)\n",
    "\n",
    "<br>\n",
    "Adding more noise to the images helped avoiding th overfitting. Random <b>rotations</b>, <b>horizontal flips</b>, <b>brightness</b>, and <b>width/height shifts</b> allowed model to generalize more when training."
   ]
  },
  {
   "cell_type": "code",
   "execution_count": 2,
   "id": "9caf6006",
   "metadata": {},
   "outputs": [],
   "source": [
    "from imgaug import augmenters as iaa\n",
    "\n",
    "aug1 = iaa.GaussianBlur(sigma=(0, 0.5))\n",
    "#aug2 = iaa.JpegCompression(compression=(50, 65))\n",
    "\n",
    "def add_augmentation(image):\n",
    "    image = aug1.augment_image(image)\n",
    "    #image = np.uint8(image * 255)\n",
    "    #image = aug2.augment_image(image)\n",
    "    #image = np.float64(image / 255.)\n",
    "    return image\n"
   ]
  },
  {
   "cell_type": "code",
   "execution_count": 11,
   "id": "f14f4d54",
   "metadata": {
    "scrolled": true
   },
   "outputs": [
    {
     "name": "stdout",
     "output_type": "stream",
     "text": [
      "Found 126562 images belonging to 2 classes.\n",
      "Found 28576 images belonging to 2 classes.\n",
      "Found 24279 images belonging to 2 classes.\n"
     ]
    }
   ],
   "source": [
    "INPUT_DIR=\"/tmp/real_vs_fake/real-vs-fake\"\n",
    "\n",
    "#Added random variations to the images\n",
    "train_gen = ImageDataGenerator(\n",
    "    rescale=(1./255),\n",
    "    rotation_range=20,\n",
    "    horizontal_flip=True,\n",
    "    vertical_flip=False,\n",
    "    brightness_range=(0.5, 1.3),\n",
    "    width_shift_range=0.18,\n",
    "    height_shift_range=0.18,\n",
    "    preprocessing_function=add_augmentation\n",
    "                              )\n",
    "valid_gen = ImageDataGenerator(\n",
    "    rescale=(1./255)\n",
    ")\n",
    "test_gen = ImageDataGenerator(\n",
    "    rescale=(1./255)\n",
    ")\n",
    "\n",
    "train = train_gen.flow_from_directory(\n",
    "    directory= INPUT_DIR+\"/train\",\n",
    "    target_size = (128, 128),\n",
    "    batch_size=64,\n",
    "    class_mode=\"binary\"\n",
    "       \n",
    ")\n",
    "valid = valid_gen.flow_from_directory(\n",
    "    directory=INPUT_DIR+\"/valid\",\n",
    "    target_size = (128, 128),\n",
    "    batch_size=32,\n",
    "    class_mode=\"binary\"\n",
    "    )\n",
    "test = test_gen.flow_from_directory(\n",
    "    directory=INPUT_DIR+\"/test\",\n",
    "    target_size = (128, 128),\n",
    "    class_mode=\"binary\"    \n",
    ")\n",
    "from PIL import ImageFile\n",
    "#Truncated images would give errors during training.\n",
    "ImageFile.LOAD_TRUNCATED_IMAGES = True"
   ]
  },
  {
   "cell_type": "code",
   "execution_count": 7,
   "id": "b42de83e",
   "metadata": {},
   "outputs": [],
   "source": [
    "import os\n",
    "os.environ[\"CUDA_VISIBLE_DEVICES\"]=\"0\" #Making sure the gpu used was only the GPU_0\n",
    "model = tf.keras.models.load_model('/tmp/model.h5')"
   ]
  },
  {
   "cell_type": "code",
   "execution_count": 9,
   "id": "6bea0ad6",
   "metadata": {},
   "outputs": [],
   "source": [
    "reduce_lr = tf.keras.callbacks.ReduceLROnPlateau(monitor='val_loss',\n",
    "                              factor=0.1, \n",
    "                              verbose=2,\n",
    "                              patience=10, min_lr=0.0001, mode=\"auto\", )"
   ]
  },
  {
   "cell_type": "code",
   "execution_count": 5,
   "id": "af0a7044",
   "metadata": {},
   "outputs": [],
   "source": [
    "model.compile(\n",
    "    optimizer=tf.keras.optimizers.Adam(learning_rate=0.001),\n",
    "    loss=\"sparse_categorical_crossentropy\",\n",
    "    metrics=[\"accuracy\"]\n",
    ")"
   ]
  },
  {
   "cell_type": "code",
   "execution_count": 10,
   "id": "10741d38",
   "metadata": {
    "scrolled": true
   },
   "outputs": [
    {
     "name": "stdout",
     "output_type": "stream",
     "text": [
      "Epoch 1/5\n",
      "1562/1562 [==============================] - 728s 465ms/step - loss: 0.4708 - accuracy: 0.7737 - val_loss: 0.5120 - val_accuracy: 0.7525\n",
      "Epoch 2/5\n",
      "1562/1562 [==============================] - 695s 445ms/step - loss: 0.2536 - accuracy: 0.8939 - val_loss: 0.4453 - val_accuracy: 0.8285\n",
      "Epoch 3/5\n",
      "1562/1562 [==============================] - 701s 449ms/step - loss: 0.1611 - accuracy: 0.9369 - val_loss: 0.1344 - val_accuracy: 0.9486\n",
      "Epoch 4/5\n",
      "1562/1562 [==============================] - 683s 437ms/step - loss: 0.1119 - accuracy: 0.9576 - val_loss: 0.1335 - val_accuracy: 0.9463\n",
      "Epoch 5/5\n",
      "1562/1562 [==============================] - 683s 437ms/step - loss: 0.0878 - accuracy: 0.9667 - val_loss: 0.0973 - val_accuracy: 0.9632\n"
     ]
    }
   ],
   "source": [
    "history = model.fit(train, \n",
    "                    epochs=5, \n",
    "                    steps_per_epoch=100000//64, \n",
    "                    validation_steps=20000//64,\n",
    "                    callbacks=[reduce_lr],\n",
    "                    validation_data=valid,\n",
    "                    #shuffle=True\n",
    "                   )"
   ]
  },
  {
   "cell_type": "code",
   "execution_count": 11,
   "id": "11fa4de8",
   "metadata": {},
   "outputs": [
    {
     "name": "stdout",
     "output_type": "stream",
     "text": [
      "625/625 - 62s - loss: 0.0938 - accuracy: 0.9651\n"
     ]
    },
    {
     "data": {
      "image/png": "[encoded data removed]",
      "text/plain": [
       "<Figure size 432x288 with 1 Axes>"
      ]
     },
     "metadata": {
      "needs_background": "light"
     },
     "output_type": "display_data"
    }
   ],
   "source": [
    "plt.plot(history.history['accuracy'], label='accuracy')\n",
    "plt.plot(history.history['val_accuracy'], label = 'val_accuracy')\n",
    "plt.xlabel('Epoch')\n",
    "plt.ylabel('Accuracy')\n",
    "plt.ylim([0.5, 1])\n",
    "plt.legend(loc='lower right')\n",
    "\n",
    "test_loss, test_acc = model.evaluate(test, verbose=2)"
   ]
  },
  {
   "cell_type": "code",
   "execution_count": 12,
   "id": "29a77017",
   "metadata": {
    "scrolled": false
   },
   "outputs": [
    {
     "data": {
      "text/plain": [
       "<matplotlib.legend.Legend at 0x7f599cbbdf28>"
      ]
     },
     "execution_count": 12,
     "metadata": {},
     "output_type": "execute_result"
    },
    {
     "data": {
      "image/png": "[encoded data removed]",
      "text/plain": [
       "<Figure size 432x288 with 1 Axes>"
      ]
     },
     "metadata": {
      "needs_background": "light"
     },
     "output_type": "display_data"
    }
   ],
   "source": [
    "plt.plot(history.history['loss'], label='loss')\n",
    "plt.plot(history.history['val_loss'], label = 'val_loss')\n",
    "plt.xlabel('Epoch')\n",
    "plt.ylabel('Accuracy')\n",
    "#plt.ylim([0.5, 1])\n",
    "plt.legend(loc='lower right')\n"
   ]
  },
  {
   "cell_type": "code",
   "execution_count": 7,
   "id": "e18a58c2",
   "metadata": {},
   "outputs": [],
   "source": [
    "model.save(\"/tmp/model-aug0.h5\")"
   ]
  },
  {
   "cell_type": "markdown",
   "id": "485e1493",
   "metadata": {},
   "source": [
    "## Training on in-the-wild UTK faces and styleGAN from 1million archive\n",
    "The *Real* faces used for this training were different from the first training.<br> The faces were not aligned and cropped, but rather in-the-wild. The photos were taken from different angles, with different backgrounds, in different lightning. More similar to how a normal photo would be taken. This dataset allowed the training to better detect faces that were not only presented as a document photo."
   ]
  },
  {
   "cell_type": "code",
   "execution_count": 12,
   "id": "80358869",
   "metadata": {},
   "outputs": [
    {
     "name": "stdout",
     "output_type": "stream",
     "text": [
      "Found 30875 images belonging to 2 classes.\n",
      "Found 8820 images belonging to 2 classes.\n",
      "Found 4412 images belonging to 2 classes.\n"
     ]
    }
   ],
   "source": [
    "INPUT_DIR=\"/tmp/inputs/1m_utk_123\"\n",
    "\n",
    "train_gen = ImageDataGenerator(\n",
    "    rescale=(1./255),\n",
    "    rotation_range=20,\n",
    "    horizontal_flip=True,\n",
    "    vertical_flip=False,\n",
    "    brightness_range=(0.5, 1.3),\n",
    "    width_shift_range=0.18,\n",
    "    height_shift_range=0.18,\n",
    "    preprocessing_function=add_augmentation\n",
    "                              )\n",
    "valid_gen = ImageDataGenerator(\n",
    "    rescale=(1./255)\n",
    ")\n",
    "test_gen = ImageDataGenerator(\n",
    "    rescale=(1./255)\n",
    ")\n",
    "\n",
    "train = train_gen.flow_from_directory(\n",
    "    directory= INPUT_DIR+\"/train\",\n",
    "    target_size = (128, 128),\n",
    "    batch_size=64,\n",
    "    class_mode=\"binary\"\n",
    "       \n",
    ")\n",
    "valid = valid_gen.flow_from_directory(\n",
    "    directory=INPUT_DIR+\"/valid\",\n",
    "    target_size = (128, 128),\n",
    "    batch_size=32,\n",
    "    class_mode=\"binary\"\n",
    "    )\n",
    "test = test_gen.flow_from_directory(\n",
    "    directory=INPUT_DIR+\"/test\",\n",
    "    target_size = (128, 128),\n",
    "    class_mode=\"binary\"    \n",
    ")\n",
    "from PIL import ImageFile\n",
    "#Truncated images would give errors during training.\n",
    "ImageFile.LOAD_TRUNCATED_IMAGES = True"
   ]
  },
  {
   "cell_type": "code",
   "execution_count": 4,
   "id": "03fcbd70",
   "metadata": {},
   "outputs": [],
   "source": [
    "import os\n",
    "os.environ[\"CUDA_VISIBLE_DEVICES\"]=\"0\" #Making sure the gpu used was only the GPU_0\n",
    "model = tf.keras.models.load_model('/tmp/model-aug0.h5')"
   ]
  },
  {
   "cell_type": "code",
   "execution_count": 5,
   "id": "7479e3a5",
   "metadata": {},
   "outputs": [],
   "source": [
    "reduce_lr = tf.keras.callbacks.ReduceLROnPlateau(monitor='val_loss',\n",
    "                              factor=0.1, \n",
    "                              verbose=2,\n",
    "                              patience=10, min_lr=0.0001, mode=\"auto\", )"
   ]
  },
  {
   "cell_type": "code",
   "execution_count": 6,
   "id": "5b92cb4a",
   "metadata": {},
   "outputs": [],
   "source": [
    "model.compile(\n",
    "    optimizer=tf.keras.optimizers.Adam(learning_rate=0.001),\n",
    "    loss=\"sparse_categorical_crossentropy\",\n",
    "    metrics=[\"accuracy\"]\n",
    ")"
   ]
  },
  {
   "cell_type": "code",
   "execution_count": 7,
   "id": "45858f31",
   "metadata": {
    "scrolled": true
   },
   "outputs": [
    {
     "name": "stdout",
     "output_type": "stream",
     "text": [
      "Epoch 1/5\n",
      "482/482 [==============================] - 454s 938ms/step - loss: 0.1363 - accuracy: 0.9522 - val_loss: 0.0984 - val_accuracy: 0.9651\n",
      "Epoch 2/5\n",
      "482/482 [==============================] - 453s 941ms/step - loss: 0.1127 - accuracy: 0.9595 - val_loss: 0.0734 - val_accuracy: 0.9745\n",
      "Epoch 3/5\n",
      "482/482 [==============================] - 450s 934ms/step - loss: 0.1028 - accuracy: 0.9636 - val_loss: 0.1199 - val_accuracy: 0.9587\n",
      "Epoch 4/5\n",
      "482/482 [==============================] - 451s 936ms/step - loss: 0.0939 - accuracy: 0.9662 - val_loss: 0.0905 - val_accuracy: 0.9683\n",
      "Epoch 5/5\n",
      "482/482 [==============================] - 451s 935ms/step - loss: 0.0862 - accuracy: 0.9695 - val_loss: 0.0509 - val_accuracy: 0.9849\n"
     ]
    }
   ],
   "source": [
    "history = model.fit(train, \n",
    "                    \n",
    "                    epochs=5, \n",
    "                    steps_per_epoch=30875//64, \n",
    "                    validation_steps=8820//64,\n",
    "                    callbacks=[reduce_lr],\n",
    "                    validation_data=valid,\n",
    "                    #shuffle=True\n",
    "                   )"
   ]
  },
  {
   "cell_type": "code",
   "execution_count": 13,
   "id": "54b86936",
   "metadata": {},
   "outputs": [
    {
     "name": "stdout",
     "output_type": "stream",
     "text": [
      "138/138 - 41s - loss: 0.0509 - accuracy: 0.9812\n"
     ]
    },
    {
     "data": {
      "image/png": "[encoded data removed]",
      "text/plain": [
       "<Figure size 432x288 with 1 Axes>"
      ]
     },
     "metadata": {
      "needs_background": "light"
     },
     "output_type": "display_data"
    }
   ],
   "source": [
    "plt.plot(history.history['accuracy'], label='accuracy')\n",
    "plt.plot(history.history['val_accuracy'], label = 'val_accuracy')\n",
    "plt.xlabel('Epoch')\n",
    "plt.ylabel('Accuracy')\n",
    "plt.ylim([0.5, 1])\n",
    "plt.legend(loc='lower right')\n",
    "\n",
    "test_loss, test_acc = model.evaluate(test, verbose=2)"
   ]
  },
  {
   "cell_type": "code",
   "execution_count": 14,
   "id": "f957288d",
   "metadata": {},
   "outputs": [
    {
     "data": {
      "text/plain": [
       "<matplotlib.legend.Legend at 0x7ff43d598470>"
      ]
     },
     "execution_count": 14,
     "metadata": {},
     "output_type": "execute_result"
    },
    {
     "data": {
      "image/png": "[encoded data removed]",
      "text/plain": [
       "<Figure size 432x288 with 1 Axes>"
      ]
     },
     "metadata": {
      "needs_background": "light"
     },
     "output_type": "display_data"
    }
   ],
   "source": [
    "plt.plot(history.history['loss'], label='loss')\n",
    "plt.plot(history.history['val_loss'], label = 'val_loss')\n",
    "plt.xlabel('Epoch')\n",
    "plt.ylabel('Accuracy')\n",
    "#plt.ylim([0.5, 1])\n",
    "plt.legend(loc='lower right')\n"
   ]
  },
  {
   "cell_type": "code",
   "execution_count": 10,
   "id": "3731d4d7",
   "metadata": {},
   "outputs": [],
   "source": [
    "model.save(\"/tmp/model-aug1.h5\")"
   ]
  },
  {
   "cell_type": "code",
   "execution_count": 8,
   "id": "f8dceade",
   "metadata": {},
   "outputs": [
    {
     "name": "stdout",
     "output_type": "stream",
     "text": [
      "Found 13818 images belonging to 2 classes.\n"
     ]
    }
   ],
   "source": [
    "test = test_gen.flow_from_directory(\n",
    "    directory=\"/tmp/inputs/testing/\",\n",
    "    target_size = (128, 128),\n",
    "    class_mode=\"binary\"    \n",
    ")"
   ]
  },
  {
   "cell_type": "markdown",
   "id": "3504c17e",
   "metadata": {},
   "source": [
    "## Testing on a more appropriate dataset\n",
    "The testing being done on the same immages provided a result that could only verify the accuracy for images similar to the ones used for the training. <br>The images used for the final testing are taken from the LAG (http://www.ivl.disco.unimib.it/activities/large-age-gap-face-verification/) and CelebA (http://mmlab.ie.cuhk.edu.hk/projects/CelebA.html) datasets for *Real* faces and from the 1 million fake faces archive for the digitally created ones. <br>The images used for this testing, provided a wider variety of photos taken in different backgrounds, angles, environments. The images also included subjects from a large age gap.<br>\n",
    "The model performance on this test dataset resulted with an accuracy of 87%"
   ]
  },
  {
   "cell_type": "code",
   "execution_count": 9,
   "id": "343dae56",
   "metadata": {},
   "outputs": [
    {
     "name": "stdout",
     "output_type": "stream",
     "text": [
      "432/432 [==============================] - 132s 304ms/step - loss: 0.3754 - accuracy: 0.8770\n"
     ]
    },
    {
     "data": {
      "text/plain": [
       "[0.3753596544265747, 0.8770444393157959]"
      ]
     },
     "execution_count": 9,
     "metadata": {},
     "output_type": "execute_result"
    }
   ],
   "source": [
    "model.evaluate(test)"
   ]
  },
  {
   "cell_type": "code",
   "execution_count": null,
   "id": "dacb93da",
   "metadata": {},
   "outputs": [],
   "source": []
  }
 ],
 "metadata": {
  "kernelspec": {
   "display_name": "Python 3",
   "language": "python",
   "name": "python3"
  },
  "language_info": {
   "codemirror_mode": {
    "name": "ipython",
    "version": 3
   },
   "file_extension": ".py",
   "mimetype": "text/x-python",
   "name": "python",
   "nbconvert_exporter": "python",
   "pygments_lexer": "ipython3",
   "version": "3.6.8"
  }
 },
 "nbformat": 4,
 "nbformat_minor": 5
}
