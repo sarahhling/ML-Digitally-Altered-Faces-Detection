{
 "cells": [
  {
   "cell_type": "markdown",
   "id": "4d846a56",
   "metadata": {},
   "source": [
    "# First training with crop_part_1 (real) and 1m_face_00 (fake) "
   ]
  },
  {
   "cell_type": "code",
   "execution_count": 1,
   "id": "70f2fc1f",
   "metadata": {},
   "outputs": [],
   "source": [
    "import os\n",
    "import cv2\n",
    "import glob\n",
    "import random\n",
    "import numpy as np\n",
    "import matplotlib.pyplot as plt\n",
    "from tensorflow.keras import datasets, layers, models\n",
    "import tensorflow as tf\n",
    "\n",
    "TRAIN_RATIO = 0.8\n",
    "VALIDATION_RATIO = 0.2"
   ]
  },
  {
   "cell_type": "markdown",
   "id": "54357fb1",
   "metadata": {},
   "source": [
    "## Reading training data and assigning to np arrays"
   ]
  },
  {
   "cell_type": "code",
   "execution_count": 2,
   "id": "d53396a1",
   "metadata": {},
   "outputs": [],
   "source": [
    "# Listing images in the folder and shuffling filenames in case they are ordered by age,characteristics, etc...\n",
    "real_faces_file_list = glob.glob(\"crop_part1/train_1/*\")\n",
    "random.shuffle(real_faces_file_list)\n",
    "# Calculatin length for training and validation sets\n",
    "train_real_faces_length = int((len(real_faces_file_list) * TRAIN_RATIO))\n",
    "validation_real_faces_length =  int((len(real_faces_file_list) * VALIDATION_RATIO))\n",
    "\n",
    "# Reading real faces images and converting them to np arrays\n",
    "\n",
    "# for fname in real_faces_file_list:\n",
    "#     image = cv2.imread(fname)\n",
    "#     train_real_faces.append(np.array(image))\n",
    "                                      \n",
    "                                      \n",
    "                                      \n",
    "train_real_faces = np.array([np.array(cv2.imread(fname)) for fname in real_faces_file_list[:train_real_faces_length]])\n",
    "validation_real_faces = np.array([np.array(cv2.imread(fname)) for fname in real_faces_file_list[train_real_faces_length:]])\n",
    "\n",
    "# Label for real faces (0) np array of zeroes\n",
    "train_real_labels = np.full(train_real_faces_length,0)\n",
    "validation_real_labels = np.full(validation_real_faces_length,0)"
   ]
  },
  {
   "cell_type": "code",
   "execution_count": 3,
   "id": "bb354fa7",
   "metadata": {},
   "outputs": [],
   "source": [
    "# Listing images in the folder and shuffling filenames in case they are ordered by age,characteristics, etc...\n",
    "fake_faces_file_list = glob.glob(\"./1m_faces_00-200x200/train_1/*\")\n",
    "random.shuffle(fake_faces_file_list)\n",
    "\n",
    "# Calculatin length for training and validation sets\n",
    "train_fake_faces_length = int(((len(fake_faces_file_list)-(len(fake_faces_file_list)-1000)) * TRAIN_RATIO))\n",
    "validation_fake_faces_length = int(((len(fake_faces_file_list)-(len(fake_faces_file_list)-1000)) * VALIDATION_RATIO))\n",
    "# Reading real faces images and converting them to np arrays\n",
    "train_fake_faces = np.array([np.array(cv2.imread(fname)) for fname in fake_faces_file_list[:train_fake_faces_length]])\n",
    "validation_fake_faces = np.array([np.array(cv2.imread(fname)) for fname in fake_faces_file_list[train_fake_faces_length:train_fake_faces_length+validation_fake_faces_length]])\n",
    "\n",
    "train_fake_labels = np.full(train_fake_faces_length, 0)\n",
    "validation_fake_labels = np.full(validation_fake_faces_length,1)"
   ]
  },
  {
   "cell_type": "code",
   "execution_count": null,
   "id": "dd9c3de3",
   "metadata": {},
   "outputs": [],
   "source": []
  },
  {
   "cell_type": "code",
   "execution_count": 4,
   "id": "a62a6b39",
   "metadata": {},
   "outputs": [
    {
     "data": {
      "text/plain": [
       "(800, 200, 200, 3)"
      ]
     },
     "execution_count": 4,
     "metadata": {},
     "output_type": "execute_result"
    }
   ],
   "source": [
    "train_real_faces.shape"
   ]
  },
  {
   "cell_type": "code",
   "execution_count": 5,
   "id": "76d02098",
   "metadata": {},
   "outputs": [
    {
     "data": {
      "text/plain": [
       "'fake_faces_file_list[0].split(\"\\\\\")[1]'"
      ]
     },
     "execution_count": 5,
     "metadata": {},
     "output_type": "execute_result"
    }
   ],
   "source": [
    "\"\"\"fake_faces_file_list[0].split(\"\\\\\")[1]\"\"\""
   ]
  },
  {
   "cell_type": "code",
   "execution_count": 6,
   "id": "d5f2188a",
   "metadata": {},
   "outputs": [
    {
     "ename": "SyntaxError",
     "evalue": "EOL while scanning string literal (<ipython-input-6-4b07764c360d>, line 20)",
     "output_type": "error",
     "traceback": [
      "\u001b[0;36m  File \u001b[0;32m\"<ipython-input-6-4b07764c360d>\"\u001b[0;36m, line \u001b[0;32m20\u001b[0m\n\u001b[0;31m    \"\"\"\"\u001b[0m\n\u001b[0m        \n^\u001b[0m\n\u001b[0;31mSyntaxError\u001b[0m\u001b[0;31m:\u001b[0m EOL while scanning string literal\n"
     ]
    }
   ],
   "source": [
    "#FUNCTION FOR SPLITTING THE IMAGES IN SETS OF 1000 images per folder \n",
    "\"\"\"\"import os\n",
    "import cv2\n",
    "import glob\n",
    "import random\n",
    "files_list = glob.glob(\"crop_part1/*\")\n",
    "random.shuffle(files_list)\n",
    "i = 0\n",
    "for fname in files_list:\n",
    "    if(i == 1000):\n",
    "        break\n",
    "    if(\"train_\" in fname):\n",
    "        print(\"train_ folder\")\n",
    "        continue\n",
    "  \n",
    "    im_temp = cv2.imread(fname)\n",
    "    cv2.imwrite(\"/home/mgaldi/CS486/crop_part1/train_6/\"+fname.split(\"/\")[1], im_temp)\n",
    "    os.remove(\"/home/mgaldi/CS486/crop_part1/\"+fname.split(\"/\")[1])\n",
    "    i = i+1\n",
    "\"\"\"\""
   ]
  },
  {
   "cell_type": "code",
   "execution_count": null,
   "id": "046f382f",
   "metadata": {
    "scrolled": true
   },
   "outputs": [],
   "source": [
    "\"\"\"im_rgb = cv2.cvtColor(train_real_faces[0], cv2.COLOR_BGR2RGB)\"\"\""
   ]
  },
  {
   "cell_type": "code",
   "execution_count": 4,
   "id": "60135da9",
   "metadata": {},
   "outputs": [],
   "source": [
    "train_real_faces = train_real_faces / 255.0\n",
    "train_fake_faces = train_fake_faces / 255.0\n",
    "#train_ps_faces = train_ps_faces / 255.0\n",
    "validation_real_faces = validation_real_faces / 255.0\n",
    "validation_fake_faces = validation_fake_faces / 255.0\n",
    "#validation_ps_faces = validation_ps_faces / 255.0"
   ]
  },
  {
   "cell_type": "code",
   "execution_count": 5,
   "id": "e5ff8f22",
   "metadata": {},
   "outputs": [],
   "source": [
    "train_x = np.concatenate((train_real_faces, train_fake_faces))#,train_ps_faces\n",
    "validation_x = np.concatenate((validation_real_faces, validation_fake_faces))#,validation_ps_faces\n",
    "train_y = np.concatenate((train_real_labels,train_fake_labels))#,train_ps_labels\n",
    "validation_y = np.concatenate((validation_real_labels,validation_fake_labels))#,validation_ps_labels"
   ]
  },
  {
   "cell_type": "code",
   "execution_count": 6,
   "id": "dbbb8c76",
   "metadata": {},
   "outputs": [
    {
     "data": {
      "text/plain": [
       "(400,)"
      ]
     },
     "execution_count": 6,
     "metadata": {},
     "output_type": "execute_result"
    }
   ],
   "source": [
    "validation_y.shape"
   ]
  },
  {
   "cell_type": "code",
   "execution_count": null,
   "id": "c4fa23df",
   "metadata": {},
   "outputs": [],
   "source": [
    "# indices = np.arange(train_real_fake_ps_faces.shape[0])\n",
    "# np.random.shuffle(indices)\n",
    "# indices\n"
   ]
  },
  {
   "cell_type": "code",
   "execution_count": null,
   "id": "5b9dbddb",
   "metadata": {},
   "outputs": [],
   "source": []
  },
  {
   "cell_type": "code",
   "execution_count": 6,
   "id": "e143567c",
   "metadata": {},
   "outputs": [],
   "source": [
    "model = models.Sequential()\n",
    "model.add(layers.Conv2D(200, (3, 3), activation='relu', input_shape=(200, 200, 3)))\n",
    "model.add(layers.MaxPooling2D((2, 2)))\n",
    "model.add(layers.Conv2D(400, (3, 3), activation='relu'))\n",
    "model.add(layers.MaxPooling2D((2, 2)))\n",
    "model.add(layers.Conv2D(400, (3, 3), activation='relu'))\n",
    "model.add(layers.MaxPooling2D((2, 2)))\n",
    "model.add(layers.Conv2D(400, (3, 3), activation='relu'))\n",
    "model.add(layers.MaxPooling2D((2, 2)))\n",
    "model.add(layers.Conv2D(400, (3, 3), activation='relu'))"
   ]
  },
  {
   "cell_type": "code",
   "execution_count": 7,
   "id": "deeb5a89",
   "metadata": {},
   "outputs": [],
   "source": [
    "# model = models.Sequential()\n",
    "# model.add(layers.Conv2D(200, (3, 3), activation='relu', input_shape=(200, 200, 3)))\n",
    "# model.add(layers.Conv2D(400, (3, 3), activation='relu'))\n",
    "# model.add(layers.MaxPooling2D((2, 2)))\n",
    "# model.add(layers.Conv2D(400, (3, 3), activation='relu'))\n",
    "# model.add(layers.Conv2D(400, (3, 3), activation='relu'))\n",
    "# model.add(layers.MaxPooling2D((2, 2)))"
   ]
  },
  {
   "cell_type": "code",
   "execution_count": 8,
   "id": "dc254f9f",
   "metadata": {},
   "outputs": [
    {
     "name": "stdout",
     "output_type": "stream",
     "text": [
      "Model: \"sequential\"\n",
      "_________________________________________________________________\n",
      "Layer (type)                 Output Shape              Param #   \n",
      "=================================================================\n",
      "conv2d (Conv2D)              (None, 198, 198, 200)     5600      \n",
      "_________________________________________________________________\n",
      "max_pooling2d (MaxPooling2D) (None, 99, 99, 200)       0         \n",
      "_________________________________________________________________\n",
      "conv2d_1 (Conv2D)            (None, 97, 97, 400)       720400    \n",
      "_________________________________________________________________\n",
      "max_pooling2d_1 (MaxPooling2 (None, 48, 48, 400)       0         \n",
      "_________________________________________________________________\n",
      "conv2d_2 (Conv2D)            (None, 46, 46, 400)       1440400   \n",
      "_________________________________________________________________\n",
      "max_pooling2d_2 (MaxPooling2 (None, 23, 23, 400)       0         \n",
      "_________________________________________________________________\n",
      "conv2d_3 (Conv2D)            (None, 21, 21, 400)       1440400   \n",
      "_________________________________________________________________\n",
      "max_pooling2d_3 (MaxPooling2 (None, 10, 10, 400)       0         \n",
      "_________________________________________________________________\n",
      "conv2d_4 (Conv2D)            (None, 8, 8, 400)         1440400   \n",
      "=================================================================\n",
      "Total params: 5,047,200\n",
      "Trainable params: 5,047,200\n",
      "Non-trainable params: 0\n",
      "_________________________________________________________________\n"
     ]
    }
   ],
   "source": [
    "model.summary()"
   ]
  },
  {
   "cell_type": "code",
   "execution_count": 9,
   "id": "d5271e2c",
   "metadata": {},
   "outputs": [],
   "source": [
    "model.add(layers.Flatten())\n",
    "model.add(layers.Dense(400, activation='relu'))\n",
    "model.add(layers.Dense(2, activation='softmax'))"
   ]
  },
  {
   "cell_type": "code",
   "execution_count": 12,
   "id": "75bd3919",
   "metadata": {},
   "outputs": [
    {
     "ename": "TypeError",
     "evalue": "softmax_cross_entropy_with_logits_v2() missing 2 required positional arguments: 'labels' and 'logits'",
     "output_type": "error",
     "traceback": [
      "\u001b[0;31m---------------------------------------------------------------------------\u001b[0m",
      "\u001b[0;31mTypeError\u001b[0m                                 Traceback (most recent call last)",
      "\u001b[0;32m<ipython-input-12-edd8e8681fa3>\u001b[0m in \u001b[0;36m<module>\u001b[0;34m\u001b[0m\n\u001b[1;32m      1\u001b[0m model.compile(optimizer='adam',\n\u001b[0;32m----> 2\u001b[0;31m               \u001b[0mloss\u001b[0m\u001b[0;34m=\u001b[0m\u001b[0mtf\u001b[0m\u001b[0;34m.\u001b[0m\u001b[0mnn\u001b[0m\u001b[0;34m.\u001b[0m\u001b[0msoftmax_cross_entropy_with_logits\u001b[0m\u001b[0;34m(\u001b[0m\u001b[0;34m)\u001b[0m\u001b[0;34m,\u001b[0m\u001b[0;34m\u001b[0m\u001b[0;34m\u001b[0m\u001b[0m\n\u001b[0m\u001b[1;32m      3\u001b[0m              \u001b[0;31m# tf.keras.losses.SparseCategoricalCrossentropy(from_logits=True),\u001b[0m\u001b[0;34m\u001b[0m\u001b[0;34m\u001b[0m\u001b[0;34m\u001b[0m\u001b[0m\n\u001b[1;32m      4\u001b[0m               metrics=['accuracy'])\n\u001b[1;32m      5\u001b[0m \u001b[0;34m\u001b[0m\u001b[0m\n",
      "\u001b[0;32m/usr/local/lib64/python3.6/site-packages/tensorflow/python/util/dispatch.py\u001b[0m in \u001b[0;36mwrapper\u001b[0;34m(*args, **kwargs)\u001b[0m\n\u001b[1;32m    204\u001b[0m     \u001b[0;34m\"\"\"Call target, and fall back on dispatchers if there is a TypeError.\"\"\"\u001b[0m\u001b[0;34m\u001b[0m\u001b[0;34m\u001b[0m\u001b[0m\n\u001b[1;32m    205\u001b[0m     \u001b[0;32mtry\u001b[0m\u001b[0;34m:\u001b[0m\u001b[0;34m\u001b[0m\u001b[0;34m\u001b[0m\u001b[0m\n\u001b[0;32m--> 206\u001b[0;31m       \u001b[0;32mreturn\u001b[0m \u001b[0mtarget\u001b[0m\u001b[0;34m(\u001b[0m\u001b[0;34m*\u001b[0m\u001b[0margs\u001b[0m\u001b[0;34m,\u001b[0m \u001b[0;34m**\u001b[0m\u001b[0mkwargs\u001b[0m\u001b[0;34m)\u001b[0m\u001b[0;34m\u001b[0m\u001b[0;34m\u001b[0m\u001b[0m\n\u001b[0m\u001b[1;32m    207\u001b[0m     \u001b[0;32mexcept\u001b[0m \u001b[0;34m(\u001b[0m\u001b[0mTypeError\u001b[0m\u001b[0;34m,\u001b[0m \u001b[0mValueError\u001b[0m\u001b[0;34m)\u001b[0m\u001b[0;34m:\u001b[0m\u001b[0;34m\u001b[0m\u001b[0;34m\u001b[0m\u001b[0m\n\u001b[1;32m    208\u001b[0m       \u001b[0;31m# Note: convert_to_eager_tensor currently raises a ValueError, not a\u001b[0m\u001b[0;34m\u001b[0m\u001b[0;34m\u001b[0m\u001b[0;34m\u001b[0m\u001b[0m\n",
      "\u001b[0;31mTypeError\u001b[0m: softmax_cross_entropy_with_logits_v2() missing 2 required positional arguments: 'labels' and 'logits'"
     ]
    }
   ],
   "source": [
    "model.compile(optimizer='adam',\n",
    "              loss=tf.nn.softmax_cross_entropy_with_logits(),\n",
    "             # tf.keras.losses.SparseCategoricalCrossentropy(from_logits=True),\n",
    "              metrics=['accuracy'])\n",
    "\n",
    "history = model.fit(train_x, train_y, epochs=10, batch_size=50,\n",
    "                    validation_data=(validation_x, validation_y),shuffle=True)"
   ]
  },
  {
   "cell_type": "code",
   "execution_count": null,
   "id": "306cd479",
   "metadata": {},
   "outputs": [],
   "source": [
    "plt.plot(history.history['accuracy'], label='accuracy')\n",
    "plt.plot(history.history['val_accuracy'], label = 'val_accuracy')\n",
    "plt.xlabel('Epoch')\n",
    "plt.ylabel('Accuracy')\n",
    "plt.ylim([0.5, 1])\n",
    "plt.legend(loc='lower right')\n",
    "\n",
    "validation_loss, validation_acc = model.evaluate(validation_x,  validation_y, verbose=2)"
   ]
  },
  {
   "cell_type": "code",
   "execution_count": 15,
   "id": "0bbfebb9",
   "metadata": {},
   "outputs": [],
   "source": [
    "model.save(\"/tmp/model_train_1.h5\")"
   ]
  },
  {
   "cell_type": "markdown",
   "id": "bf552bbe",
   "metadata": {},
   "source": [
    "# Training model with 9k more pictures"
   ]
  },
  {
   "cell_type": "code",
   "execution_count": 1,
   "id": "61ad3a52",
   "metadata": {},
   "outputs": [],
   "source": [
    "import os\n",
    "import cv2\n",
    "import glob\n",
    "import random\n",
    "import numpy as np\n",
    "import matplotlib.pyplot as plt\n",
    "from tensorflow.keras import datasets, layers, models\n",
    "import tensorflow as tf\n",
    "TRAIN_RATIO = 0.8\n",
    "VALIDATION_RATIO = 0.2"
   ]
  },
  {
   "cell_type": "code",
   "execution_count": 2,
   "id": "6686d2a4",
   "metadata": {},
   "outputs": [],
   "source": [
    "real_faces_file_list = glob.glob(\"real_and_fake_face/training_real-200x200/*\")\n",
    "random.shuffle(real_faces_file_list)\n",
    "# train_real_faces_length = int(((len(real_faces_file_list)-(len(real_faces_file_list)-1000)) * TRAIN_RATIO))\n",
    "# validation_real_faces_length =  int(((len(real_faces_file_list)-(len(real_faces_file_list)-1000)) * VALIDATION_RATIO))\n",
    "train_real_faces_length = int((len(real_faces_file_list) * TRAIN_RATIO))\n",
    "validation_real_faces_length = int((len(real_faces_file_list) * VALIDATION_RATIO))\n",
    "train_real_faces = np.array([np.array(cv2.imread(fname)) for fname in real_faces_file_list[:train_real_faces_length]])\n",
    "validation_real_faces = np.array([np.array(cv2.imread(fname)) for fname in real_faces_file_list[train_real_faces_length:]])\n",
    "\n",
    "train_real_labels = np.full(train_real_faces_length,0)\n",
    "validation_real_labels = np.full(validation_real_faces_length,0)"
   ]
  },
  {
   "cell_type": "code",
   "execution_count": 3,
   "id": "e95490d9",
   "metadata": {},
   "outputs": [
    {
     "name": "stdout",
     "output_type": "stream",
     "text": [
      "864\n",
      "216\n",
      "864\n",
      "217\n"
     ]
    }
   ],
   "source": [
    "print(train_real_faces_length)\n",
    "print(validation_real_faces_length)\n",
    "print(len(train_real_faces))\n",
    "print(len(validation_real_faces))"
   ]
  },
  {
   "cell_type": "code",
   "execution_count": 4,
   "id": "8470c500",
   "metadata": {},
   "outputs": [],
   "source": [
    "fake_faces_file_list = glob.glob(\"real_and_fake_face/training_fake-200x200/*\")\n",
    "random.shuffle(fake_faces_file_list)\n",
    "# train_fake_faces_length = int(((len(fake_faces_file_list)-(len(fake_faces_file_list)-1000)) * TRAIN_RATIO))\n",
    "# validation_fake_faces_length = int(((len(fake_faces_file_list)-(len(fake_faces_file_list)-1000)) * VALIDATION_RATIO))\n",
    "train_fake_faces_length = int((len(fake_faces_file_list) * TRAIN_RATIO))\n",
    "validation_fake_faces_length = int((len(fake_faces_file_list) * VALIDATION_RATIO))\n",
    "\n",
    "train_fake_faces = np.array([np.array(cv2.imread(fname)) for fname in fake_faces_file_list[:train_fake_faces_length]])\n",
    "validation_fake_faces = np.array([np.array(cv2.imread(fname)) for fname in fake_faces_file_list[train_fake_faces_length:]])\n",
    "\n",
    "train_fake_labels = np.full(train_fake_faces_length,1)\n",
    "validation_fake_labels = np.full(validation_fake_faces_length,1)"
   ]
  },
  {
   "cell_type": "code",
   "execution_count": 5,
   "id": "9bec5431",
   "metadata": {},
   "outputs": [
    {
     "name": "stdout",
     "output_type": "stream",
     "text": [
      "768\n",
      "192\n",
      "768\n",
      "192\n"
     ]
    }
   ],
   "source": [
    "print(train_fake_faces_length)\n",
    "print(validation_fake_faces_length)\n",
    "print(len(train_fake_faces))\n",
    "print(len(validation_fake_faces))"
   ]
  },
  {
   "cell_type": "code",
   "execution_count": 6,
   "id": "5b2cc15f",
   "metadata": {},
   "outputs": [],
   "source": [
    "train_real_faces = train_real_faces / 255.0\n",
    "train_fake_faces = train_fake_faces / 255.0\n",
    "#train_ps_faces = train_ps_faces / 255.0\n",
    "validation_real_faces = validation_real_faces / 255.0\n",
    "validation_fake_faces = validation_fake_faces / 255.0\n",
    "#validation_ps_faces = validation_ps_faces / 255.0"
   ]
  },
  {
   "cell_type": "code",
   "execution_count": 7,
   "id": "840b2eaa",
   "metadata": {},
   "outputs": [],
   "source": [
    "train_real_fake_ps_faces = np.concatenate((train_real_faces, train_fake_faces))#,train_ps_faces\n",
    "validation_real_fake_ps_faces = np.concatenate((validation_real_faces, validation_fake_faces))#,validation_ps_faces\n",
    "train_real_fake_ps_labels = np.concatenate((train_real_labels,train_fake_labels))#,train_ps_labels\n",
    "validation_real_fake_ps_labels = np.concatenate((validation_real_labels,validation_fake_labels))#,validation_ps_labels"
   ]
  },
  {
   "cell_type": "code",
   "execution_count": null,
   "id": "fcfb364e",
   "metadata": {},
   "outputs": [],
   "source": []
  },
  {
   "cell_type": "code",
   "execution_count": 8,
   "id": "bbad886a",
   "metadata": {},
   "outputs": [],
   "source": [
    "model = tf.keras.models.load_model('/tmp/model_train_10_ps.h5')"
   ]
  },
  {
   "cell_type": "code",
   "execution_count": 9,
   "id": "4eb652b6",
   "metadata": {
    "scrolled": true
   },
   "outputs": [
    {
     "name": "stdout",
     "output_type": "stream",
     "text": [
      "Epoch 1/15\n",
      "33/33 [==============================] - ETA: 0s - loss: 1.2456 - accuracy: 0.5319"
     ]
    },
    {
     "ename": "ValueError",
     "evalue": "Data cardinality is ambiguous:\n  x sizes: 409\n  y sizes: 408\nMake sure all arrays contain the same number of samples.",
     "output_type": "error",
     "traceback": [
      "\u001b[0;31m---------------------------------------------------------------------------\u001b[0m",
      "\u001b[0;31mValueError\u001b[0m                                Traceback (most recent call last)",
      "\u001b[0;32m<ipython-input-9-3d7181896216>\u001b[0m in \u001b[0;36m<module>\u001b[0;34m\u001b[0m\n\u001b[1;32m      4\u001b[0m \u001b[0;34m\u001b[0m\u001b[0m\n\u001b[1;32m      5\u001b[0m history = model.fit(train_real_fake_ps_faces, train_real_fake_ps_labels, epochs=15, batch_size=50,\n\u001b[0;32m----> 6\u001b[0;31m                     validation_data=(validation_real_fake_ps_faces, validation_real_fake_ps_labels),shuffle=True)\n\u001b[0m",
      "\u001b[0;32m/usr/local/lib/python3.6/site-packages/keras/engine/training.py\u001b[0m in \u001b[0;36mfit\u001b[0;34m(self, x, y, batch_size, epochs, verbose, callbacks, validation_split, validation_data, shuffle, class_weight, sample_weight, initial_epoch, steps_per_epoch, validation_steps, validation_batch_size, validation_freq, max_queue_size, workers, use_multiprocessing)\u001b[0m\n\u001b[1;32m   1212\u001b[0m                 \u001b[0muse_multiprocessing\u001b[0m\u001b[0;34m=\u001b[0m\u001b[0muse_multiprocessing\u001b[0m\u001b[0;34m,\u001b[0m\u001b[0;34m\u001b[0m\u001b[0;34m\u001b[0m\u001b[0m\n\u001b[1;32m   1213\u001b[0m                 \u001b[0mmodel\u001b[0m\u001b[0;34m=\u001b[0m\u001b[0mself\u001b[0m\u001b[0;34m,\u001b[0m\u001b[0;34m\u001b[0m\u001b[0;34m\u001b[0m\u001b[0m\n\u001b[0;32m-> 1214\u001b[0;31m                 steps_per_execution=self._steps_per_execution)\n\u001b[0m\u001b[1;32m   1215\u001b[0m           val_logs = self.evaluate(\n\u001b[1;32m   1216\u001b[0m               \u001b[0mx\u001b[0m\u001b[0;34m=\u001b[0m\u001b[0mval_x\u001b[0m\u001b[0;34m,\u001b[0m\u001b[0;34m\u001b[0m\u001b[0;34m\u001b[0m\u001b[0m\n",
      "\u001b[0;32m/usr/local/lib/python3.6/site-packages/keras/engine/data_adapter.py\u001b[0m in \u001b[0;36mget_data_handler\u001b[0;34m(*args, **kwargs)\u001b[0m\n\u001b[1;32m   1381\u001b[0m   \u001b[0;32mif\u001b[0m \u001b[0mgetattr\u001b[0m\u001b[0;34m(\u001b[0m\u001b[0mkwargs\u001b[0m\u001b[0;34m[\u001b[0m\u001b[0;34m\"model\"\u001b[0m\u001b[0;34m]\u001b[0m\u001b[0;34m,\u001b[0m \u001b[0;34m\"_cluster_coordinator\"\u001b[0m\u001b[0;34m,\u001b[0m \u001b[0;32mNone\u001b[0m\u001b[0;34m)\u001b[0m\u001b[0;34m:\u001b[0m\u001b[0;34m\u001b[0m\u001b[0;34m\u001b[0m\u001b[0m\n\u001b[1;32m   1382\u001b[0m     \u001b[0;32mreturn\u001b[0m \u001b[0m_ClusterCoordinatorDataHandler\u001b[0m\u001b[0;34m(\u001b[0m\u001b[0;34m*\u001b[0m\u001b[0margs\u001b[0m\u001b[0;34m,\u001b[0m \u001b[0;34m**\u001b[0m\u001b[0mkwargs\u001b[0m\u001b[0;34m)\u001b[0m\u001b[0;34m\u001b[0m\u001b[0;34m\u001b[0m\u001b[0m\n\u001b[0;32m-> 1383\u001b[0;31m   \u001b[0;32mreturn\u001b[0m \u001b[0mDataHandler\u001b[0m\u001b[0;34m(\u001b[0m\u001b[0;34m*\u001b[0m\u001b[0margs\u001b[0m\u001b[0;34m,\u001b[0m \u001b[0;34m**\u001b[0m\u001b[0mkwargs\u001b[0m\u001b[0;34m)\u001b[0m\u001b[0;34m\u001b[0m\u001b[0;34m\u001b[0m\u001b[0m\n\u001b[0m\u001b[1;32m   1384\u001b[0m \u001b[0;34m\u001b[0m\u001b[0m\n\u001b[1;32m   1385\u001b[0m \u001b[0;34m\u001b[0m\u001b[0m\n",
      "\u001b[0;32m/usr/local/lib/python3.6/site-packages/keras/engine/data_adapter.py\u001b[0m in \u001b[0;36m__init__\u001b[0;34m(self, x, y, sample_weight, batch_size, steps_per_epoch, initial_epoch, epochs, shuffle, class_weight, max_queue_size, workers, use_multiprocessing, model, steps_per_execution, distribute)\u001b[0m\n\u001b[1;32m   1148\u001b[0m         \u001b[0muse_multiprocessing\u001b[0m\u001b[0;34m=\u001b[0m\u001b[0muse_multiprocessing\u001b[0m\u001b[0;34m,\u001b[0m\u001b[0;34m\u001b[0m\u001b[0;34m\u001b[0m\u001b[0m\n\u001b[1;32m   1149\u001b[0m         \u001b[0mdistribution_strategy\u001b[0m\u001b[0;34m=\u001b[0m\u001b[0mtf\u001b[0m\u001b[0;34m.\u001b[0m\u001b[0mdistribute\u001b[0m\u001b[0;34m.\u001b[0m\u001b[0mget_strategy\u001b[0m\u001b[0;34m(\u001b[0m\u001b[0;34m)\u001b[0m\u001b[0;34m,\u001b[0m\u001b[0;34m\u001b[0m\u001b[0;34m\u001b[0m\u001b[0m\n\u001b[0;32m-> 1150\u001b[0;31m         model=model)\n\u001b[0m\u001b[1;32m   1151\u001b[0m \u001b[0;34m\u001b[0m\u001b[0m\n\u001b[1;32m   1152\u001b[0m     \u001b[0mstrategy\u001b[0m \u001b[0;34m=\u001b[0m \u001b[0mtf\u001b[0m\u001b[0;34m.\u001b[0m\u001b[0mdistribute\u001b[0m\u001b[0;34m.\u001b[0m\u001b[0mget_strategy\u001b[0m\u001b[0;34m(\u001b[0m\u001b[0;34m)\u001b[0m\u001b[0;34m\u001b[0m\u001b[0;34m\u001b[0m\u001b[0m\n",
      "\u001b[0;32m/usr/local/lib/python3.6/site-packages/keras/engine/data_adapter.py\u001b[0m in \u001b[0;36m__init__\u001b[0;34m(self, x, y, sample_weights, sample_weight_modes, batch_size, epochs, steps, shuffle, **kwargs)\u001b[0m\n\u001b[1;32m    239\u001b[0m \u001b[0;34m\u001b[0m\u001b[0m\n\u001b[1;32m    240\u001b[0m     \u001b[0mnum_samples\u001b[0m \u001b[0;34m=\u001b[0m \u001b[0mset\u001b[0m\u001b[0;34m(\u001b[0m\u001b[0mint\u001b[0m\u001b[0;34m(\u001b[0m\u001b[0mi\u001b[0m\u001b[0;34m.\u001b[0m\u001b[0mshape\u001b[0m\u001b[0;34m[\u001b[0m\u001b[0;36m0\u001b[0m\u001b[0;34m]\u001b[0m\u001b[0;34m)\u001b[0m \u001b[0;32mfor\u001b[0m \u001b[0mi\u001b[0m \u001b[0;32min\u001b[0m \u001b[0mtf\u001b[0m\u001b[0;34m.\u001b[0m\u001b[0mnest\u001b[0m\u001b[0;34m.\u001b[0m\u001b[0mflatten\u001b[0m\u001b[0;34m(\u001b[0m\u001b[0minputs\u001b[0m\u001b[0;34m)\u001b[0m\u001b[0;34m)\u001b[0m\u001b[0;34m.\u001b[0m\u001b[0mpop\u001b[0m\u001b[0;34m(\u001b[0m\u001b[0;34m)\u001b[0m\u001b[0;34m\u001b[0m\u001b[0;34m\u001b[0m\u001b[0m\n\u001b[0;32m--> 241\u001b[0;31m     \u001b[0m_check_data_cardinality\u001b[0m\u001b[0;34m(\u001b[0m\u001b[0minputs\u001b[0m\u001b[0;34m)\u001b[0m\u001b[0;34m\u001b[0m\u001b[0;34m\u001b[0m\u001b[0m\n\u001b[0m\u001b[1;32m    242\u001b[0m \u001b[0;34m\u001b[0m\u001b[0m\n\u001b[1;32m    243\u001b[0m     \u001b[0;31m# If batch_size is not passed but steps is, calculate from the input data.\u001b[0m\u001b[0;34m\u001b[0m\u001b[0;34m\u001b[0m\u001b[0;34m\u001b[0m\u001b[0m\n",
      "\u001b[0;32m/usr/local/lib/python3.6/site-packages/keras/engine/data_adapter.py\u001b[0m in \u001b[0;36m_check_data_cardinality\u001b[0;34m(data)\u001b[0m\n\u001b[1;32m   1647\u001b[0m           label, \", \".join(str(i.shape[0]) for i in tf.nest.flatten(single_data)))\n\u001b[1;32m   1648\u001b[0m     \u001b[0mmsg\u001b[0m \u001b[0;34m+=\u001b[0m \u001b[0;34m\"Make sure all arrays contain the same number of samples.\"\u001b[0m\u001b[0;34m\u001b[0m\u001b[0;34m\u001b[0m\u001b[0m\n\u001b[0;32m-> 1649\u001b[0;31m     \u001b[0;32mraise\u001b[0m \u001b[0mValueError\u001b[0m\u001b[0;34m(\u001b[0m\u001b[0mmsg\u001b[0m\u001b[0;34m)\u001b[0m\u001b[0;34m\u001b[0m\u001b[0;34m\u001b[0m\u001b[0m\n\u001b[0m\u001b[1;32m   1650\u001b[0m \u001b[0;34m\u001b[0m\u001b[0m\n\u001b[1;32m   1651\u001b[0m \u001b[0;34m\u001b[0m\u001b[0m\n",
      "\u001b[0;31mValueError\u001b[0m: Data cardinality is ambiguous:\n  x sizes: 409\n  y sizes: 408\nMake sure all arrays contain the same number of samples."
     ]
    }
   ],
   "source": [
    "model.compile(optimizer='adam',\n",
    "              loss=tf.keras.losses.SparseCategoricalCrossentropy(from_logits=True),\n",
    "              metrics=['accuracy'])\n",
    "\n",
    "history = model.fit(train_real_fake_ps_faces, train_real_fake_ps_labels, epochs=15, batch_size=50,\n",
    "                    validation_data=(validation_real_fake_ps_faces, validation_real_fake_ps_labels),shuffle=True)"
   ]
  },
  {
   "cell_type": "code",
   "execution_count": 10,
   "id": "b099f27b",
   "metadata": {},
   "outputs": [
    {
     "name": "stdout",
     "output_type": "stream",
     "text": [
      "5/5 - 1s - loss: 3.0954 - accuracy: 0.5688\n"
     ]
    },
    {
     "data": {
      "image/png": "[encoded data removed]",
      "text/plain": [
       "<Figure size 432x288 with 1 Axes>"
      ]
     },
     "metadata": {
      "needs_background": "light"
     },
     "output_type": "display_data"
    }
   ],
   "source": [
    "plt.plot(history.history['accuracy'], label='accuracy')\n",
    "plt.plot(history.history['val_accuracy'], label = 'val_accuracy')\n",
    "plt.xlabel('Epoch')\n",
    "plt.ylabel('Accuracy')\n",
    "plt.ylim([0.5, 1])\n",
    "plt.legend(loc='lower right')\n",
    "\n",
    "validation_loss, validation_acc = model.evaluate(validation_real_fake_ps_faces,  validation_real_fake_ps_labels, verbose=2)"
   ]
  },
  {
   "cell_type": "code",
   "execution_count": 11,
   "id": "6099347c",
   "metadata": {},
   "outputs": [],
   "source": [
    "model.save(\"/tmp/model_train_11_ps_kaggle.h5\")"
   ]
  },
  {
   "cell_type": "markdown",
   "id": "2c832cdf",
   "metadata": {},
   "source": [
    "## Testing"
   ]
  },
  {
   "cell_type": "code",
   "execution_count": null,
   "id": "e4c8f45f",
   "metadata": {},
   "outputs": [],
   "source": []
  },
  {
   "cell_type": "markdown",
   "id": "f607e3c6",
   "metadata": {},
   "source": [
    "# Training with PS images (classified as real)"
   ]
  },
  {
   "cell_type": "code",
   "execution_count": null,
   "id": "017eefef",
   "metadata": {},
   "outputs": [],
   "source": [
    "# model.predict(test_fake_faces)"
   ]
  },
  {
   "cell_type": "code",
   "execution_count": null,
   "id": "272bcca2",
   "metadata": {},
   "outputs": [],
   "source": [
    "# preds = model.predict(test_real_fake_faces)"
   ]
  },
  {
   "cell_type": "code",
   "execution_count": null,
   "id": "97da315d",
   "metadata": {},
   "outputs": [],
   "source": [
    "# np.max(preds)"
   ]
  },
  {
   "cell_type": "code",
   "execution_count": null,
   "id": "5d947853",
   "metadata": {
    "scrolled": false
   },
   "outputs": [],
   "source": [
    "# for i in range(len(preds)):\n",
    "#     if(preds[i][0] > preds[i][1]):\n",
    "#         print(\"Real\")\n",
    "#     else:\n",
    "#         print(\"Fake\")"
   ]
  },
  {
   "cell_type": "code",
   "execution_count": null,
   "id": "7a598307",
   "metadata": {},
   "outputs": [],
   "source": []
  },
  {
   "cell_type": "code",
   "execution_count": null,
   "id": "c388b458",
   "metadata": {},
   "outputs": [],
   "source": [
    "# import pandas as pd\n",
    "# df = pd.DataFrame(preds, columns=['Real', 'Fake'])"
   ]
  },
  {
   "cell_type": "code",
   "execution_count": null,
   "id": "c076df19",
   "metadata": {},
   "outputs": [],
   "source": [
    "# df"
   ]
  },
  {
   "cell_type": "code",
   "execution_count": null,
   "id": "a12e557b",
   "metadata": {},
   "outputs": [],
   "source": [
    "# im_temp = cv2.imread(\"./real_image.jpg\")\n",
    "# im_temp = cv2.resize(im_temp, (200, 200))\n",
    "# cv2.imwrite(\"/home/mgaldi/CS486/real_image-200x200.jpg\", im_temp)"
   ]
  },
  {
   "cell_type": "code",
   "execution_count": null,
   "id": "9700d215",
   "metadata": {},
   "outputs": [],
   "source": [
    "# im_temp = cv2.imread(\"./real_image-200x200.jpg\")"
   ]
  },
  {
   "cell_type": "code",
   "execution_count": null,
   "id": "b25d2a42",
   "metadata": {},
   "outputs": [],
   "source": [
    "# img = np.array([im_temp])"
   ]
  },
  {
   "cell_type": "code",
   "execution_count": null,
   "id": "8c757471",
   "metadata": {},
   "outputs": [],
   "source": [
    "# img.shape"
   ]
  },
  {
   "cell_type": "code",
   "execution_count": null,
   "id": "df0cdb2a",
   "metadata": {},
   "outputs": [],
   "source": [
    "# test_img = img/255.0\n"
   ]
  },
  {
   "cell_type": "code",
   "execution_count": null,
   "id": "3f05717d",
   "metadata": {},
   "outputs": [],
   "source": [
    "# model.predict(test_img)"
   ]
  },
  {
   "cell_type": "code",
   "execution_count": null,
   "id": "fede30e7",
   "metadata": {},
   "outputs": [],
   "source": []
  }
 ],
 "metadata": {
  "kernelspec": {
   "display_name": "Python 3",
   "language": "python",
   "name": "python3"
  },
  "language_info": {
   "codemirror_mode": {
    "name": "ipython",
    "version": 3
   },
   "file_extension": ".py",
   "mimetype": "text/x-python",
   "name": "python",
   "nbconvert_exporter": "python",
   "pygments_lexer": "ipython3",
   "version": "3.6.8"
  }
 },
 "nbformat": 4,
 "nbformat_minor": 5
}
